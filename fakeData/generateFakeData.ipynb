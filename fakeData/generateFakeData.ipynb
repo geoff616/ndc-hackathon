{
 "cells": [
  {
   "cell_type": "code",
   "execution_count": 27,
   "metadata": {
    "collapsed": false
   },
   "outputs": [],
   "source": [
    "data = [\n",
    "  {\n",
    "    \"origin\": \"RIX\",\n",
    "    \"dest\": \"FRA\",\n",
    "    \"airline\": \"Athena\",\n",
    "    \"classType\": \"economy\",\n",
    "    \"cost\": \"245.19\"\n",
    "  },\n",
    "  {\n",
    "    \"origin\": \"FRA\",\n",
    "    \"dest\": \"ATH\",\n",
    "    \"airline\": \"Kronos\",\n",
    "    \"classType\": \"economy\",\n",
    "    \"cost\": \"717.45\"\n",
    "  },\n",
    "  {\n",
    "    \"origin\": \"ATH\",\n",
    "    \"dest\": \"MUC\",\n",
    "    \"airline\": \"Kronos\",\n",
    "    \"classType\": \"buisness\",\n",
    "    \"cost\": \"1042.1\"\n",
    "  },\n",
    "  {\n",
    "    \"origin\": \"LHR\",\n",
    "    \"dest\": \"ARN\",\n",
    "    \"airline\": \"Athena\",\n",
    "    \"classType\": \"buisness\",\n",
    "    \"cost\": \"231.3\"\n",
    "  },\n",
    "  {\n",
    "    \"origin\": \"RIX\",\n",
    "    \"dest\": \"MUC\",\n",
    "    \"airline\": \"Kronos\",\n",
    "    \"classType\": \"economy plus\",\n",
    "    \"cost\": \"954.93\"\n",
    "  },\n",
    "  {\n",
    "    \"origin\": \"ATH\",\n",
    "    \"dest\": \"RIX\",\n",
    "    \"airline\": \"Athena\",\n",
    "    \"classType\": \"economy plus\",\n",
    "    \"cost\": \"1819.45\"\n",
    "  },\n",
    "  {\n",
    "    \"origin\": \"MUC\",\n",
    "    \"dest\": \"CDG\",\n",
    "    \"airline\": \"Athena\",\n",
    "    \"classType\": \"economy\",\n",
    "    \"cost\": \"974.7\"\n",
    "  },\n",
    "  {\n",
    "    \"origin\": \"ARN\",\n",
    "    \"dest\": \"LHR\",\n",
    "    \"airline\": \"Athena\",\n",
    "    \"classType\": \"economy plus\",\n",
    "    \"cost\": \"1682.46\"\n",
    "  },\n",
    "  {\n",
    "    \"origin\": \"RIX\",\n",
    "    \"dest\": \"MUC\",\n",
    "    \"airline\": \"Kronos\",\n",
    "    \"classType\": \"economy\",\n",
    "    \"cost\": \"1377.52\"\n",
    "  },\n",
    "  {\n",
    "    \"origin\": \"FRA\",\n",
    "    \"dest\": \"ARN\",\n",
    "    \"airline\": \"Athena\",\n",
    "    \"classType\": \"first\",\n",
    "    \"cost\": \"1606.18\"\n",
    "  },\n",
    "  {\n",
    "    \"origin\": \"MUC\",\n",
    "    \"dest\": \"ARN\",\n",
    "    \"airline\": \"Kronos\",\n",
    "    \"classType\": \"economy\",\n",
    "    \"cost\": \"1629.69\"\n",
    "  },\n",
    "  {\n",
    "    \"origin\": \"MUC\",\n",
    "    \"dest\": \"ATH\",\n",
    "    \"airline\": \"Kronos\",\n",
    "    \"classType\": \"economy\",\n",
    "    \"cost\": \"1038.44\"\n",
    "  },\n",
    "  {\n",
    "    \"origin\": \"CDG\",\n",
    "    \"dest\": \"PRG\",\n",
    "    \"airline\": \"Kronos\",\n",
    "    \"classType\": \"economy\",\n",
    "    \"cost\": \"593.75\"\n",
    "  },\n",
    "  {\n",
    "    \"origin\": \"FRA\",\n",
    "    \"dest\": \"CDG\",\n",
    "    \"airline\": \"Kronos\",\n",
    "    \"classType\": \"first\",\n",
    "    \"cost\": \"972.63\"\n",
    "  },\n",
    "  {\n",
    "    \"origin\": \"LHR\",\n",
    "    \"dest\": \"LHR\",\n",
    "    \"airline\": \"Kronos\",\n",
    "    \"classType\": \"first\",\n",
    "    \"cost\": \"800.9\"\n",
    "  },\n",
    "  {\n",
    "    \"origin\": \"PRG\",\n",
    "    \"dest\": \"ATH\",\n",
    "    \"airline\": \"Kronos\",\n",
    "    \"classType\": \"economy\",\n",
    "    \"cost\": \"1184.98\"\n",
    "  },\n",
    "  {\n",
    "    \"origin\": \"FRA\",\n",
    "    \"dest\": \"RIX\",\n",
    "    \"airline\": \"Athena\",\n",
    "    \"classType\": \"economy plus\",\n",
    "    \"cost\": \"325.43\"\n",
    "  },\n",
    "  {\n",
    "    \"origin\": \"ARN\",\n",
    "    \"dest\": \"PRG\",\n",
    "    \"airline\": \"Athena\",\n",
    "    \"classType\": \"buisness\",\n",
    "    \"cost\": \"1301.24\"\n",
    "  },\n",
    "  {\n",
    "    \"origin\": \"ARN\",\n",
    "    \"dest\": \"FRA\",\n",
    "    \"airline\": \"Athena\",\n",
    "    \"classType\": \"economy\",\n",
    "    \"cost\": \"215.37\"\n",
    "  },\n",
    "  {\n",
    "    \"origin\": \"LHR\",\n",
    "    \"dest\": \"RIX\",\n",
    "    \"airline\": \"Kronos\",\n",
    "    \"classType\": \"economy\",\n",
    "    \"cost\": \"890.64\"\n",
    "  }\n",
    "]"
   ]
  },
  {
   "cell_type": "code",
   "execution_count": 21,
   "metadata": {
    "collapsed": false
   },
   "outputs": [],
   "source": [
    "import elasticsearch\n",
    "from elasticsearch import Elasticsearch\n",
    "\n",
    "es = Elasticsearch(['http://139.59.140.17:9200'])"
   ]
  },
  {
   "cell_type": "code",
   "execution_count": 29,
   "metadata": {
    "collapsed": false
   },
   "outputs": [],
   "source": [
    "for d in data:\n",
    "    es.index(index=\"mockdata\", doc_type='transaction', body=d)"
   ]
  },
  {
   "cell_type": "code",
   "execution_count": null,
   "metadata": {
    "collapsed": false
   },
   "outputs": [],
   "source": []
  },
  {
   "cell_type": "code",
   "execution_count": null,
   "metadata": {
    "collapsed": false
   },
   "outputs": [],
   "source": []
  },
  {
   "cell_type": "code",
   "execution_count": null,
   "metadata": {
    "collapsed": false
   },
   "outputs": [],
   "source": []
  },
  {
   "cell_type": "code",
   "execution_count": null,
   "metadata": {
    "collapsed": true
   },
   "outputs": [],
   "source": []
  }
 ],
 "metadata": {
  "kernelspec": {
   "display_name": "Python 2",
   "language": "python",
   "name": "python2"
  },
  "language_info": {
   "codemirror_mode": {
    "name": "ipython",
    "version": 2
   },
   "file_extension": ".py",
   "mimetype": "text/x-python",
   "name": "python",
   "nbconvert_exporter": "python",
   "pygments_lexer": "ipython2",
   "version": "2.7.9"
  }
 },
 "nbformat": 4,
 "nbformat_minor": 0
}
