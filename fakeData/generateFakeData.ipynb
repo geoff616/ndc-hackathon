{
 "cells": [
  {
   "cell_type": "code",
   "execution_count": 33,
   "metadata": {
    "collapsed": false
   },
   "outputs": [],
   "source": [
    "import requests as req\n",
    "import xmltodict\n",
    "from json import dumps, loads\n",
    "\n",
    "esURL = 'http://139.59.140.17:9200/faketransactions/transaction'"
   ]
  },
  {
   "cell_type": "code",
   "execution_count": 37,
   "metadata": {
    "collapsed": false
   },
   "outputs": [],
   "source": [
    "with open('./3_OrderCreateRQ.xml') as fd:\n",
    "    RQdoc = xmltodict.parse(fd.read())\n",
    "\n",
    "with open('./3_OrderViewRS_OrderCreateRQ.xml') as fd:\n",
    "    RQdoc = xmltodict.parse(fd.read())    "
   ]
  },
  {
   "cell_type": "code",
   "execution_count": 39,
   "metadata": {
    "collapsed": false
   },
   "outputs": [
    {
     "data": {
      "text/plain": [
       "'{\"OrderViewRS\": {\"@TimeStamp\": \"0001-01-01T00:00:00\", \"@Version\": \"15.2\", \"@xmlns\": \"http://www.iata.org/IATA/EDIST\", \"@xmlns:xsi\": \"http://www.w3.org/2001/XMLSchema-instance\", \"@xmlns:xsd\": \"http://www.w3.org/2001/XMLSchema\", \"Document\": {\"Name\": \"9A\", \"ReferenceVersion\": \"1.0\"}, \"Party\": {\"Sender\": {\"TravelAgencySender\": {\"Contacts\": {\"Contact\": {\"EmailContact\": {\"Address\": \"ndc@usdtravel.com\"}}}, \"PseudoCity\": \"A4A\", \"IATA_Number\": \"98417900\", \"AgencyID\": {\"@Owner\": \"9A\", \"#text\": \"9A\"}, \"AgentUser\": {\"Name\": \"ksmith\", \"AgentUserID\": \"ramesh@jrt.com\", \"UserRole\": \"ADMIN\"}}}, \"Participants\": {\"@xsi:nil\": \"true\"}, \"Recipient\": {\"@xsi:nil\": \"true\"}}, \"Success\": null, \"Response\": {\"OrderViewProcessing\": null, \"Passengers\": {\"Passenger\": {\"@ObjectKey\": \"PAX1\", \"PTC\": {\"@Quantity\": \"1\", \"#text\": \"ADT\"}, \"ResidenceCode\": \"US\", \"Age\": {\"BirthDate\": \"1985-09-04\"}, \"Name\": {\"Surname\": \"Patel\", \"Given\": \"Ramesh\", \"Middle\": \"N\"}, \"ProfileID\": \"105062344143001\", \"Contacts\": {\"Contact\": [{\"AddressContact\": {\"Street\": \"22 Main Street\", \"PostalCode\": \"14202\", \"CountryCode\": \"DE\"}}, {\"EmailContact\": {\"Address\": \"ramesh@jrtechnologies.com\"}}, {\"PhoneContact\": {\"Application\": \"Emergency\", \"Number\": \"9869159259\"}}]}}}, \"Order\": {\"OrderID\": {\"@Owner\": \"9A\", \"#text\": \"F9A2Y1\"}, \"BookingReferences\": {\"BookingReference\": {\"ID\": \"64702b\", \"AirlineID\": \"9A\"}}, \"TotalOrderPrice\": {\"DetailCurrencyPrice\": {\"Total\": {\"@Code\": \"EUR\", \"#text\": \"64633\"}, \"Taxes\": {\"Total\": \"54191\"}}}, \"OrderItems\": {\"OrderItem\": {\"OrderItemID\": {\"@Owner\": \"JRT\", \"#text\": \"1#M#110013557#210013557\"}, \"FlightItem\": {\"OriginDestination\": {\"Flight\": [{\"@refs\": \"SEG1\", \"Departure\": {\"AirportCode\": \"FRA\", \"Date\": \"2016-05-08\"}, \"Arrival\": {\"AirportCode\": \"ATH\"}, \"MarketingCarrier\": {\"AirlineID\": \"9A\", \"Name\": \"Athena Air\", \"FlightNumber\": \"1278\"}, \"OperatingCarrier\": {\"AirlineID\": \"9A\"}}, {\"@refs\": \"SEG2\", \"Departure\": {\"AirportCode\": \"ATH\", \"Date\": \"2016-05-08\"}, \"Arrival\": {\"AirportCode\": \"DXB\"}, \"MarketingCarrier\": {\"AirlineID\": \"9A\", \"Name\": \"Athena Air\", \"FlightNumber\": \"1278\"}, \"OperatingCarrier\": {\"AirlineID\": \"9A\"}}]}}, \"Associations\": {\"Passengers\": {\"PassengerReferences\": \"PAX1\"}}}}}, \"DataList\": {\"FlightSegmentList\": {\"FlightSegment\": [{\"@SegmentKey\": \"SEG1\", \"Departure\": {\"AirportCode\": \"FRA\", \"Date\": \"2016-05-08\", \"Time\": \"09:25\", \"AirportName\": \"Frankfurt International\"}, \"Arrival\": {\"AirportCode\": \"ATH\", \"Date\": \"2016-05-08\", \"Time\": \"13:10\", \"AirportName\": \"Athens Eleftherios Venizelos\"}, \"MarketingCarrier\": {\"AirlineID\": \"9A\", \"Name\": \"Athena Air\", \"FlightNumber\": \"1278\"}, \"OperatingCarrier\": {\"AirlineID\": \"9A\", \"Name\": \"Athena Air\", \"FlightNumber\": \"1278\"}, \"Equipment\": {\"AircraftCode\": \"321\", \"Name\": \"321 - AIRBUS INDUSTRIE A321 JET\"}, \"FlightDetail\": {\"FlightDuration\": {\"Value\": \"PT3H45M\"}}}, {\"@SegmentKey\": \"SEG2\", \"Departure\": {\"AirportCode\": \"ATH\", \"Date\": \"2016-05-08\", \"Time\": \"18:10\", \"AirportName\": \"Athens Eleftherios Venizelos\"}, \"Arrival\": {\"AirportCode\": \"DXB\", \"Date\": \"2016-05-08\", \"Time\": \"22:50\", \"AirportName\": \"Dubai International\"}, \"MarketingCarrier\": {\"AirlineID\": \"9A\", \"Name\": \"Athena Air\", \"FlightNumber\": \"1278\"}, \"OperatingCarrier\": {\"AirlineID\": \"9A\", \"Name\": \"Athena Air\", \"FlightNumber\": \"1278\"}, \"Equipment\": {\"AircraftCode\": \"321\", \"Name\": \"321 - AIRBUS INDUSTRIE A321 JET\"}, \"FlightDetail\": {\"FlightDuration\": {\"Value\": \"PT4H40M\"}}}]}, \"FlightList\": {\"Flight\": {\"@FlightKey\": \"FL1\", \"SegmentReferences\": \"SEG1 SEG2\"}}, \"OriginDestinationList\": {\"OriginDestination\": {\"@OriginDestinationKey\": \"OD1\", \"DepartureCode\": \"FRA\", \"ArrivalCode\": \"DXB\", \"FlightReferences\": \"FL1\"}}}, \"Metadata\": {\"Other\": {\"OtherMetadata\": [{\"CurrencyMetadatas\": {\"CurrencyMetadata\": {\"@MetadataKey\": \"EUR\", \"Decimals\": \"2\"}}}, {\"DescriptionMetadatas\": {\"DescriptionMetadata\": {\"@MetadataKey\": \"ID1\", \"AugmentationPoint\": {\"AugPoint\": {\"a:Logo\": {\"@xmlns:a\": \"http://www.iata.org\", \"#text\": \"http://athena.jrtechnologies.com/ServiceImage/Athena-50x90.png\"}}}}}}]}}}}}'"
      ]
     },
     "execution_count": 39,
     "metadata": {},
     "output_type": "execute_result"
    }
   ],
   "source": [
    "dumps(RQdoc)"
   ]
  },
  {
   "cell_type": "code",
   "execution_count": 35,
   "metadata": {
    "collapsed": false
   },
   "outputs": [
    {
     "data": {
      "text/plain": [
       "u'{\"error\":{\"root_cause\":[{\"type\":\"mapper_parsing_exception\",\"reason\":\"failed to parse\"}],\"type\":\"mapper_parsing_exception\",\"reason\":\"failed to parse\",\"caused_by\":{\"type\":\"not_x_content_exception\",\"reason\":\"Compressor detection can only be called on some xcontent bytes or compressed xcontent bytes\"}},\"status\":400}'"
      ]
     },
     "execution_count": 35,
     "metadata": {},
     "output_type": "execute_result"
    }
   ],
   "source": [
    "r.text\n"
   ]
  },
  {
   "cell_type": "code",
   "execution_count": 13,
   "metadata": {
    "collapsed": false
   },
   "outputs": [
    {
     "data": {
      "text/plain": [
       "[('{http://www.w3.org/2001/XMLSchema-instance}schemaLocation',\n",
       "  'http://www.iata.org/IATA/EDIST OrderCreateRQ.xsd'),\n",
       " ('Version', '15.2')]"
      ]
     },
     "execution_count": 13,
     "metadata": {},
     "output_type": "execute_result"
    }
   ],
   "source": [
    "e.to"
   ]
  },
  {
   "cell_type": "code",
   "execution_count": 36,
   "metadata": {
    "collapsed": false
   },
   "outputs": [
    {
     "data": {
      "text/plain": [
       "'{\"OrderCreateRQ\": {\"@xmlns\": \"http://www.iata.org/IATA/EDIST\", \"@xmlns:xsi\": \"http://www.w3.org/2001/XMLSchema-instance\", \"@Version\": \"15.2\", \"@xsi:schemaLocation\": \"http://www.iata.org/IATA/EDIST OrderCreateRQ.xsd\", \"PointOfSale\": {\"Location\": {\"CountryCode\": \"US\", \"CityCode\": \"WAS\"}, \"RequestTime\": {\"@Zone\": \"EST\", \"#text\": \"2015-10-14T07:45:00+07:45\"}, \"TouchPoint\": {\"Device\": {\"Code\": \"2\", \"Definition\": \"Web Browser\", \"Position\": {\"Latitude\": \"38.89756\", \"Longitude\": \"-77.03650\", \"NAC\": \"8KD7V PGGM0\"}}, \"Event\": {\"Code\": \"1\", \"Definition\": \"Order or buy\"}}}, \"Document\": {\"Name\": \"KRONOS NDC GATEWAY\", \"ReferenceVersion\": \"1.0\"}, \"Party\": {\"Sender\": {\"TravelAgencySender\": {\"Contacts\": {\"Contact\": {\"EmailContact\": {\"Address\": \"ndc@usdtravel.com\"}}}, \"PseudoCity\": \"A4A\", \"IATA_Number\": \"98417900\", \"AgencyID\": {\"@Owner\": \"9A\", \"#text\": \"9A\"}, \"AgentUser\": {\"Name\": \"ksmith\", \"AgentUserID\": \"ramesh@jrt.com\", \"UserRole\": \"ADMIN\"}}}}, \"Query\": {\"Passengers\": {\"Passenger\": {\"@ObjectKey\": \"PAX1\", \"PTC\": {\"@Quantity\": \"1\", \"#text\": \"ADT\"}, \"ResidenceCode\": \"US\", \"Age\": {\"BirthDate\": \"1985-09-05\"}, \"Name\": {\"Surname\": \"Patel\", \"Given\": \"Ramesh\", \"Middle\": \"N\"}, \"Contacts\": {\"Contact\": [{\"AddressContact\": {\"Street\": \"22 Main Street\", \"PostalCode\": \"14202\", \"CountryCode\": \"DE\"}}, {\"EmailContact\": {\"Address\": \"ramesh@jrtechnologies.com\"}}, {\"PhoneContact\": {\"Application\": \"Emergency\", \"Number\": \"9869159259\"}}]}}}, \"OrderItems\": {\"ShoppingResponse\": {\"Owner\": \"9A\", \"ResponseID\": \"RE211db390f52c453b982d0889f7e71551\", \"Offers\": {\"Offer\": {\"OfferID\": {\"@Owner\": \"9A\", \"#text\": \"1\"}, \"OfferItems\": {\"OfferItem\": {\"OfferItemID\": {\"@Owner\": \"9A\", \"#text\": \"1#M#110013557#210013557\"}, \"Passengers\": {\"PassengerReference\": \"PAX1\"}}}}}}}, \"Payments\": {\"Payment\": {\"Method\": {\"PaymentCard\": {\"CardCode\": \"MC\", \"CardNumber\": \"1111222233334444\", \"SeriesCode\": \"584\", \"EffectiveExpireDate\": {\"Effective\": \"0322\"}}}, \"Amount\": {\"@Taxable\": \"true\", \"#text\": \"201987\"}, \"Payer\": {\"Name\": {\"Surname\": \"Patel\", \"Given\": \"Ramesh\"}, \"Contacts\": {\"Contact\": {\"AddressContact\": {\"Street\": \"22 Main Street\", \"CityName\": \"FRA\", \"PostalCode\": \"14201\", \"CountryCode\": \"DE\"}, \"EmailContact\": {\"Address\": \"ramesh@jrtechnologies.com\"}}}}}}, \"DataLists\": {\"FlightSegmentList\": {\"FlightSegment\": [{\"@SegmentKey\": \"SEG1\", \"Departure\": {\"AirportCode\": \"FRA\", \"Date\": \"2016-05-08\", \"Time\": \"09:25\", \"AirportName\": \"Frankfurt International\"}, \"Arrival\": {\"AirportCode\": \"ATH\", \"Date\": \"2016-05-08\", \"Time\": \"13:10\", \"AirportName\": \"Athens Eleftherios Venizelos\"}, \"MarketingCarrier\": {\"AirlineID\": \"9A\", \"Name\": \"Athena Air\", \"FlightNumber\": \"1278\"}, \"OperatingCarrier\": {\"AirlineID\": \"9A\", \"Name\": \"Athena Air\", \"FlightNumber\": \"1278\"}, \"Equipment\": {\"AircraftCode\": \"321\", \"Name\": \"321 - AIRBUS INDUSTRIE A321 JET\"}, \"FlightDetail\": {\"FlightDuration\": {\"Value\": \"PT3H45M\"}}}, {\"@SegmentKey\": \"SEG2\", \"Departure\": {\"AirportCode\": \"ATH\", \"Date\": \"2016-05-08\", \"Time\": \"18:10\", \"AirportName\": \"Athens Eleftherios Venizelos\"}, \"Arrival\": {\"AirportCode\": \"DXB\", \"Date\": \"2016-05-08\", \"Time\": \"22:50\", \"AirportName\": \"Dubai International\"}, \"MarketingCarrier\": {\"AirlineID\": \"9A\", \"Name\": \"Athena Air\", \"FlightNumber\": \"1278\"}, \"OperatingCarrier\": {\"AirlineID\": \"9A\", \"Name\": \"Athena Air\", \"FlightNumber\": \"1278\"}, \"Equipment\": {\"AircraftCode\": \"321\", \"Name\": \"321 - AIRBUS INDUSTRIE A321 JET\"}, \"FlightDetail\": {\"FlightDuration\": {\"Value\": \"PT4H40M\"}}}]}, \"FlightList\": {\"Flight\": {\"@FlightKey\": \"FL1\", \"Journey\": {\"Time\": \"PT13H25M\"}, \"SegmentReferences\": \"SEG1 SEG2\"}}, \"OriginDestinationList\": {\"OriginDestination\": {\"@OriginDestinationKey\": \"OD1\", \"DepartureCode\": \"FRA\", \"ArrivalCode\": \"DXB\", \"FlightReferences\": \"FL1\"}}}, \"Metadata\": {\"Other\": {\"OtherMetadata\": {\"CurrencyMetadatas\": {\"CurrencyMetadata\": {\"@MetadataKey\": \"EUR\", \"Decimals\": \"2\"}}}}}}}}'"
      ]
     },
     "execution_count": 36,
     "metadata": {},
     "output_type": "execute_result"
    }
   ],
   "source": [
    "dumps(doc)"
   ]
  },
  {
   "cell_type": "code",
   "execution_count": null,
   "metadata": {
    "collapsed": true
   },
   "outputs": [],
   "source": []
  }
 ],
 "metadata": {
  "kernelspec": {
   "display_name": "Python 2",
   "language": "python",
   "name": "python2"
  },
  "language_info": {
   "codemirror_mode": {
    "name": "ipython",
    "version": 2
   },
   "file_extension": ".py",
   "mimetype": "text/x-python",
   "name": "python",
   "nbconvert_exporter": "python",
   "pygments_lexer": "ipython2",
   "version": "2.7.9"
  }
 },
 "nbformat": 4,
 "nbformat_minor": 0
}
